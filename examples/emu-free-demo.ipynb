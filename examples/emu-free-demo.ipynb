{
 "cells": [
  {
   "cell_type": "markdown",
   "id": "dba10034-73ab-445c-9d81-a943af63cce1",
   "metadata": {},
   "source": [
    "# Demo: Calibration Directly using Simulator (no emulator in MCMC)\n",
    "\n",
    "- Author: Arthur Lui\n",
    "- Email: alui@lanl.gov\n",
    "- Date: 18 Feb, 2022\n",
    "\n",
    "WIP"
   ]
  },
  {
   "cell_type": "code",
   "execution_count": 1,
   "id": "4b4a4943-e5dd-47fa-8795-abeb5e73e318",
   "metadata": {},
   "outputs": [],
   "source": [
    "%load_ext autoreload\n",
    "%autoreload 2"
   ]
  },
  {
   "cell_type": "code",
   "execution_count": null,
   "id": "52363566-4d4e-4d3a-ae48-4316b403b84a",
   "metadata": {},
   "outputs": [],
   "source": [
    "import sepia\n",
    "from sepia import SepiaData, SepiaModel\n",
    "from sepia.contrib import emufree_calib_model\n",
    "from scipy.linalg import block_diag\n",
    "from sepia.contrib.ppl import distributions as dist\n",
    "import numpy as np\n",
    "import matplotlib.pyplot as plt"
   ]
  },
  {
   "cell_type": "code",
   "execution_count": null,
   "id": "02d9c765-96a0-40d3-a1d6-3136e08af0b0",
   "metadata": {},
   "outputs": [],
   "source": [
    "# Simulator gridsize.\n",
    "sim_gridsize = 60\n",
    "\n",
    "# Simulator grid.\n",
    "sim_grid = np.linspace(0, 1, sim_gridsize)\n",
    "\n",
    "# Simulator.\n",
    "def eta(x, t):\n",
    "    return t[0] + 0.25 * np.sin(sim_grid * 4 * np.pi) * x[0]\n",
    "# Discrepancy.\n",
    "def delta(x, a=3):\n",
    "    return np.clip(sim_grid - np.power(x[0], 0.2), 0, np.inf) * np.sqrt(x[0] * a)"
   ]
  },
  {
   "cell_type": "code",
   "execution_count": null,
   "id": "b47fab85-c42a-4246-a1d5-927aa5d58cb9",
   "metadata": {},
   "outputs": [],
   "source": [
    "# Generate data.\n",
    "np.random.seed(0)\n",
    "\n",
    "num_obs = 3\n",
    "xs = np.linspace(.2, .7, num_obs)[:, None]\n",
    "theta = np.array([.7])\n",
    "lam_true = 0.01\n",
    "a = 7\n",
    "\n",
    "colors = [\"blue\", \"orange\", \"red\"]\n",
    "true_discrepancy = [delta(x, a=a) for x in xs]\n",
    "ys = [np.random.normal(eta(x, theta) + delta(x, a=a), lam_true) for x in xs]  # TODO: wrong?\n",
    "y = np.concatenate(ys)\n",
    "\n",
    "for i, x in enumerate(xs):\n",
    "    plt.plot(sim_grid, true_discrepancy[i], label=f\"x={x}\", color=colors[i])\n",
    "plt.legend()\n",
    "plt.xlabel(\"indexing point\")\n",
    "plt.ylabel(\"delta\")\n",
    "plt.show()"
   ]
  },
  {
   "cell_type": "code",
   "execution_count": null,
   "id": "a7a1c9aa-71ad-476c-b363-ed11a6a7ad67",
   "metadata": {},
   "outputs": [],
   "source": [
    "for i, x in enumerate(xs):\n",
    "    # plt.plot(sim_grid, ys[i], lw=3)\n",
    "    label = None if i > 0 else \"observations (with discrepancy)\"\n",
    "    plt.plot(sim_grid, ys[i], label=label, lw=2, color=colors[i])\n",
    "for i, x in enumerate(xs):\n",
    "    label = None if i > 0 else \"simulator evaluated at x and true t\"\n",
    "    plt.plot(sim_grid, eta(x, theta), label=label, ls=\":\", color=colors[i])\n",
    "plt.xlabel(\"indexing point\")\n",
    "plt.ylabel(\"y\")\n",
    "plt.legend()\n",
    "plt.show()"
   ]
  },
  {
   "cell_type": "code",
   "execution_count": null,
   "id": "10fb66c4-8f2d-4e6d-9b40-90b836d582a0",
   "metadata": {},
   "outputs": [],
   "source": [
    "# Base sepia data.\n",
    "# TODO: sim_grid should be in SepiaData, I think y_obs_ind?\n",
    "sepia_data = SepiaData(x_obs=xs, y_obs=ys, theta_dim=1, eta=eta, Sigy=np.eye(y.shape[0]))\n",
    "\n",
    "# Create D basis.\n",
    "# TODO: Allow user to specify some basic bases (e.g. Gaussian kernels, linear, constant, hinge).\n",
    "num_basis = 21\n",
    "knots = np.linspace(0, 1, num_basis)\n",
    "def make_D(knots, num_obs):\n",
    "    num_basis = knots.shape[0]\n",
    "    return block_diag(*[\n",
    "        dist.Normal(knots[None, :], 1/(num_basis-1)).pdf(sim_grid[:, None])\n",
    "        for _ in range(num_obs)\n",
    "    ])\n",
    "D = make_D(knots, num_obs)\n",
    "\n",
    "sepia_data.create_D_basis(D_obs=D, num_basis=num_basis)"
   ]
  },
  {
   "cell_type": "code",
   "execution_count": null,
   "id": "59d8c2a0-34d8-4a74-bc64-63e040e2cf05",
   "metadata": {},
   "outputs": [],
   "source": [
    "sepia_model = SepiaModel(sepia_data)"
   ]
  },
  {
   "cell_type": "code",
   "execution_count": null,
   "id": "fdc0d1a6-e1af-4704-a09d-a7876ff2d36f",
   "metadata": {},
   "outputs": [],
   "source": [
    "result = sepia_model.do_mcmc(1000, burn=3000, thinning=3)"
   ]
  },
  {
   "cell_type": "code",
   "execution_count": null,
   "id": "3a2342e4-1e95-47b3-a6c9-f2929a68f8db",
   "metadata": {},
   "outputs": [],
   "source": [
    "print(\"result.keys(): \", result.keys())\n",
    "samples = result['samples']\n",
    "\n",
    "print(\"samples.keys(): \", samples.keys())"
   ]
  },
  {
   "cell_type": "code",
   "execution_count": null,
   "id": "3f1d618c-69f6-4ec0-a65d-f4f962205323",
   "metadata": {},
   "outputs": [],
   "source": [
    "plt.figure(figsize=(8, 6))\n",
    "\n",
    "plt.subplot(2, 2, 1)\n",
    "plt.hist(samples[\"process_sd\"])\n",
    "plt.title(\"process_sd\")\n",
    "\n",
    "plt.subplot(2, 2, 2)\n",
    "plt.hist(samples['length_scale'])\n",
    "plt.title(\"length_scale\")\n",
    "plt.xlim(0, 1)\n",
    "\n",
    "plt.subplot(2, 2, 3)\n",
    "plt.hist(samples['lam'])\n",
    "plt.title(\"lam\")\n",
    "plt.axvline(lam_true, color=\"red\", label=\"truth\")\n",
    "plt.legend()\n",
    "\n",
    "plt.subplot(2, 2, 4)\n",
    "plt.hist(samples[\"t\"].flatten())\n",
    "plt.title(\"t\")\n",
    "plt.xlim(0, 1)\n",
    "plt.axvline(theta, color=\"red\", label=\"truth\")\n",
    "plt.legend()\n",
    "\n",
    "plt.tight_layout()\n",
    "plt.show()"
   ]
  },
  {
   "cell_type": "markdown",
   "id": "19585e4c-1164-4866-9941-f51672e5feb0",
   "metadata": {},
   "source": [
    "***\n",
    "\n",
    "## TODO\n",
    "\n",
    "18 Feb, 2022.\n",
    "- [ ] Allow user to specify `sim_grid` in `SepiaData`\n",
    "- [ ] Allow user to specify a bases form for `D` (e.g. hinges, constant, linear, Gaussian kernel)\n",
    "- [ ] posterior predictive method, optionally at new locations (`xs`).\n",
    "- [ ] posterior distribution of discrepancy (`delta`), optionally at new locations (`xs`)."
   ]
  },
  {
   "cell_type": "code",
   "execution_count": null,
   "id": "cc0f190e-dea7-4f71-995f-cda7941aadc7",
   "metadata": {},
   "outputs": [],
   "source": []
  }
 ],
 "metadata": {
  "kernelspec": {
   "display_name": "venv-sepia",
   "language": "python",
   "name": "venv-sepia"
  },
  "language_info": {
   "codemirror_mode": {
    "name": "ipython",
    "version": 3
   },
   "file_extension": ".py",
   "mimetype": "text/x-python",
   "name": "python",
   "nbconvert_exporter": "python",
   "pygments_lexer": "ipython3",
   "version": "3.8.8"
  }
 },
 "nbformat": 4,
 "nbformat_minor": 5
}
