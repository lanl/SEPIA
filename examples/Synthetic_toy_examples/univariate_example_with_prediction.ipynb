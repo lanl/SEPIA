{
 "cells": [
  {
   "cell_type": "code",
   "execution_count": 1,
   "metadata": {
    "collapsed": false,
    "jupyter": {
     "outputs_hidden": false
    },
    "pycharm": {
     "name": "#%%\n"
    }
   },
   "outputs": [],
   "source": [
    "import numpy as np\n",
    "import matplotlib.pyplot as plt\n",
    "import seaborn as sns\n",
    "sns.set()\n",
    "\n",
    "from sepia.SepiaModel import SepiaModel\n",
    "from sepia.SepiaData import SepiaData\n",
    "from sepia.SepiaPredict import SepiaXvalEmulatorPrediction, SepiaEmulatorPrediction, SepiaFullPrediction\n",
    "\n",
    "%load_ext autoreload\n",
    "%autoreload 2\n",
    "%matplotlib inline"
   ]
  },
  {
   "cell_type": "markdown",
   "metadata": {
    "pycharm": {
     "is_executing": true,
     "name": "#%% md\n"
    }
   },
   "source": [
    "## Univariate-output simple example\n",
    "\n",
    "### Create synthetic data\n",
    "\n",
    "In this example, we use synthetic data generated as follows.\n",
    "\n",
    "Simulation data: $y_{sim} = 2.5 \\cos(10 t)$\n",
    "\n",
    "Observed data: $y_{obs} = 2.5 \\cos(10 t) + \\epsilon$\n",
    "\n",
    "where $\\epsilon \\sim N(0, \\sigma^2_n)$.\n",
    "\n",
    "In this case, $t$ is a univariate input variable.\n",
    "\n",
    "In the model, the simulation data output $y$ is assumed to vary smoothly with $t$.\n",
    "The observed data output is assumed to conform to the same relationship (plus white noise),\n",
    "but the true input value generating $y_{obs}$ would not be known in advance.\n",
    "That is, in this example, we generate the $t$ corresponding to $y_{obs}$, but in a real data situation,\n",
    "this would be unknown.\n",
    "We conventionally use $\\theta$ to refer to the unknown input value that would generate the observed data.\n",
    "\n",
    "The goal of emulation and calibration is to:\n",
    "\n",
    "1. Based on the simulation data, capture the smooth relationship between $t$ and $y$ with a Gaussian process.\n",
    "2. Infer the posterior distribution over $\\theta$ corresponding to the observed data.\n",
    "\n",
    "First, we generate the synthetic data."
   ]
  },
  {
   "cell_type": "code",
   "execution_count": 2,
   "metadata": {
    "collapsed": false,
    "jupyter": {
     "outputs_hidden": false
    },
    "pycharm": {
     "name": "#%%\n"
    }
   },
   "outputs": [],
   "source": [
    "seed = 42   # random seed\n",
    "m = 100     # number of simulated data observations\n",
    "n = 1       # number of observed data observations\n",
    "sig_n = 0.1 # observation noise SD\n",
    "\n",
    "np.random.seed(seed)\n",
    "\n",
    "# Sim data\n",
    "t_sim = np.linspace(0, 10, m)[:, None]\n",
    "y_sim = 2.5 * np.cos(t_sim)\n",
    "\n",
    "# Obs data\n",
    "t_obs = np.array([[7.5]])\n",
    "y_obs = 2.5 * np.cos(t_obs) + sig_n * np.random.normal(size=(n, 1))"
   ]
  },
  {
   "cell_type": "markdown",
   "metadata": {},
   "source": [
    "### Create SepiaData object\n",
    "\n",
    "Next, we initialize the SepiaData object which does some basic checking about whether the input data\n",
    "are of the correct shapes, and infers what kind of model you're going to use based on the input data.\n",
    "In this case, we pass in $t_{sim}$, $y_{sim}$, and $y_{obs}$ to indicate that we have both simulated\n",
    "and observed data."
   ]
  },
  {
   "cell_type": "code",
   "execution_count": 3,
   "metadata": {
    "collapsed": false,
    "jupyter": {
     "outputs_hidden": false
    },
    "pycharm": {
     "name": "#%%\n"
    }
   },
   "outputs": [
    {
     "name": "stdout",
     "output_type": "stream",
     "text": [
      "This SepiaData instance implies the following:\n",
      "This is a simulator and obs model, sim y dimension 1, obs y dimension 1\n",
      "n  =     1 (number of observed data)\n",
      "m  =   100 (number of simulated data)\n",
      "p  =     1 (number of inputs)\n",
      "q  =     1 (number of additional simulation inputs to calibrate)\n",
      "pu =     1 (univariate response dimension)\n"
     ]
    }
   ],
   "source": [
    "data = SepiaData(t_sim=t_sim, y_sim=y_sim, y_obs=y_obs)\n",
    "print(data)"
   ]
  },
  {
   "cell_type": "markdown",
   "metadata": {
    "pycharm": {
     "name": "#%% md\n"
    }
   },
   "source": [
    "This is what the data looks like: in the simulations (black dots), $y$ varies smoothly with $t$.\n",
    "The observed data $y$ is shown as a horizontal line.\n",
    "Based on the $y$/$t$ relationship apparent in the simulations,\n",
    "there are three regions where $t$ would produce values consistent with the observed $y$.\n",
    "Not only will the true generating input value of 7.5 (grey dashed line) match $y_{obs}$,\n",
    "but so will $t \\approx 1.5$ and $t \\approx 5$."
   ]
  },
  {
   "cell_type": "code",
   "execution_count": 4,
   "metadata": {
    "collapsed": false,
    "jupyter": {
     "outputs_hidden": false
    },
    "pycharm": {
     "name": "#%%\n"
    }
   },
   "outputs": [
    {
     "data": {
      "image/png": "[encoded data removed]",
      "text/plain": [
       "<Figure size 432x288 with 1 Axes>"
      ]
     },
     "metadata": {
      "needs_background": "light"
     },
     "output_type": "display_data"
    }
   ],
   "source": [
    "plt.plot(data.sim_data.t, data.sim_data.y, 'k.')\n",
    "plt.axhline(data.obs_data.y, color='red')\n",
    "plt.axvline(t_obs, color='grey', linestyle='dashed')\n",
    "plt.title('Synthetic data')\n",
    "plt.xlabel('t')\n",
    "plt.ylabel('y')\n",
    "plt.legend(['Sim', 'Obs'])\n",
    "plt.show()"
   ]
  },
  {
   "cell_type": "markdown",
   "metadata": {},
   "source": [
    "Standardization of data is important for default priors in the model to work well.\n",
    "\n",
    "We transform $t$ to lie in [0, 1] and standardize the $y$ values:"
   ]
  },
  {
   "cell_type": "code",
   "execution_count": 5,
   "metadata": {
    "collapsed": false,
    "jupyter": {
     "outputs_hidden": false
    },
    "pycharm": {
     "name": "#%%\n"
    }
   },
   "outputs": [],
   "source": [
    "data.transform_xt()\n",
    "data.standardize_y()"
   ]
  },
  {
   "cell_type": "markdown",
   "metadata": {
    "pycharm": {
     "name": "#%% md\n"
    }
   },
   "source": [
    "### Create SepiaModel using SepiaModel\n",
    "\n",
    "Next, we set up the model object; a lot of precalculation of important model components is done here."
   ]
  },
  {
   "cell_type": "code",
   "execution_count": 6,
   "metadata": {
    "collapsed": false,
    "jupyter": {
     "outputs_hidden": false
    },
    "pycharm": {
     "name": "#%%\n"
    }
   },
   "outputs": [],
   "source": [
    "model = SepiaModel(data)"
   ]
  },
  {
   "cell_type": "markdown",
   "metadata": {
    "pycharm": {
     "name": "#%% md\n"
    }
   },
   "source": [
    "Parameter value info:"
   ]
  },
  {
   "cell_type": "code",
   "execution_count": 7,
   "metadata": {
    "collapsed": false,
    "jupyter": {
     "outputs_hidden": false
    },
    "pycharm": {
     "name": "#%%\n"
    }
   },
   "outputs": [
    {
     "name": "stdout",
     "output_type": "stream",
     "text": [
      "betaU shape (2, 1):\n",
      "value:\n",
      "[[0.1]\n",
      " [0.1]]\n",
      "is fixed?:\n",
      "[[False]\n",
      " [False]]\n",
      "lamOs shape (1, 1):\n",
      "value:\n",
      "[[1000.]]\n",
      "is fixed?:\n",
      "[[False]]\n",
      "lamUz shape (1, 1):\n",
      "value:\n",
      "[[1.]]\n",
      "is fixed?:\n",
      "[[False]]\n",
      "lamWOs shape (1, 1):\n",
      "value:\n",
      "[[1000.]]\n",
      "is fixed?:\n",
      "[[False]]\n",
      "lamWs shape (1, 1):\n",
      "value:\n",
      "[[1000.]]\n",
      "is fixed?:\n",
      "[[False]]\n",
      "logPost shape (1, 1):\n",
      "value:\n",
      "[[-inf]]\n",
      "is fixed?:\n",
      "[[False]]\n",
      "theta shape (1, 1):\n",
      "value:\n",
      "[[0.5]]\n",
      "is fixed?:\n",
      "[[False]]\n"
     ]
    }
   ],
   "source": [
    "model.print_value_info()"
   ]
  },
  {
   "cell_type": "markdown",
   "metadata": {},
   "source": [
    "MCMC info:"
   ]
  },
  {
   "cell_type": "code",
   "execution_count": 8,
   "metadata": {
    "collapsed": false,
    "jupyter": {
     "outputs_hidden": false
    },
    "pycharm": {
     "name": "#%%\n"
    }
   },
   "outputs": [
    {
     "name": "stdout",
     "output_type": "stream",
     "text": [
      "betaU stepType: BetaRho\n",
      "stepParam:\n",
      "[[0.1]\n",
      " [0.1]]\n",
      "lamOs stepType: PropMH\n",
      "stepParam:\n",
      "[[500.]]\n",
      "lamUz stepType: PropMH\n",
      "stepParam:\n",
      "[[5.]]\n",
      "lamWOs stepType: PropMH\n",
      "stepParam:\n",
      "[[100.]]\n",
      "lamWs stepType: PropMH\n",
      "stepParam:\n",
      "[[100.]]\n",
      "logPost stepType: Recorder\n",
      "stepParam:\n",
      "None\n",
      "theta stepType: Uniform\n",
      "stepParam:\n",
      "[[0.2]]\n"
     ]
    }
   ],
   "source": [
    "model.print_mcmc_info()"
   ]
  },
  {
   "cell_type": "markdown",
   "metadata": {
    "pycharm": {
     "name": "#%% md\n"
    }
   },
   "source": [
    "### Do MCMC\n",
    "\n",
    "We will use all the default priors and settings to do MCMC.\n",
    "\n",
    "We first call `model.tune_step_sizes(50, 20)` which uses 50 samples over 20 different step sizes\n",
    "to find one with a good acceptance rate.\n",
    "\n",
    "We then draw 1000 MCMC samples."
   ]
  },
  {
   "cell_type": "code",
   "execution_count": 9,
   "metadata": {
    "collapsed": false,
    "jupyter": {
     "outputs_hidden": false
    },
    "pycharm": {
     "name": "#%%\n"
    }
   },
   "outputs": [
    {
     "name": "stdout",
     "output_type": "stream",
     "text": [
      "Starting tune_step_sizes...\n",
      "Default step sizes:\n",
      "theta\n",
      "[[0.2]]\n",
      "betaU\n",
      "[[0.1]\n",
      " [0.1]]\n",
      "lamUz\n",
      "[[5.]]\n",
      "lamWs\n",
      "[[100.]]\n",
      "lamWOs\n",
      "[[100.]]\n",
      "lamOs\n",
      "[[500.]]\n"
     ]
    },
    {
     "name": "stderr",
     "output_type": "stream",
     "text": [
      "Step size tuning: 100%|██████████| 50/50 [00:04<00:00, 11.74it/s]\n"
     ]
    },
    {
     "name": "stdout",
     "output_type": "stream",
     "text": [
      "Done with tune_step_size.\n",
      "Selected step sizes:\n",
      "theta\n",
      "[[0.04233472]]\n",
      "betaU\n",
      "[[0.10730085]\n",
      " [0.22550129]]\n",
      "lamUz\n",
      "[[1.13789158]]\n",
      "lamWs\n",
      "[[12897.16709417]]\n",
      "lamWOs\n",
      "[[7604.48377651]]\n",
      "lamOs\n",
      "[[3850.30891411]]\n"
     ]
    },
    {
     "name": "stderr",
     "output_type": "stream",
     "text": [
      "MCMC sampling: 100%|██████████| 1000/1000 [00:04<00:00, 233.70it/s]\n"
     ]
    }
   ],
   "source": [
    "model.tune_step_sizes(50, 20)\n",
    "model.do_mcmc(1000)"
   ]
  },
  {
   "cell_type": "markdown",
   "metadata": {},
   "source": [
    "Here is a basic visualization of the MCMC results: histograms of the MCMC samples."
   ]
  },
  {
   "cell_type": "code",
   "execution_count": 10,
   "metadata": {
    "collapsed": false,
    "jupyter": {
     "outputs_hidden": false
    },
    "pycharm": {
     "name": "#%%\n"
    }
   },
   "outputs": [
    {
     "data": {
      "image/png": "[encoded data removed]",
      "text/plain": [
       "<Figure size 432x288 with 1 Axes>"
      ]
     },
     "metadata": {
      "needs_background": "light"
     },
     "output_type": "display_data"
    },
    {
     "data": {
      "image/png": "[encoded data removed]",
      "text/plain": [
       "<Figure size 432x288 with 2 Axes>"
      ]
     },
     "metadata": {
      "needs_background": "light"
     },
     "output_type": "display_data"
    },
    {
     "data": {
      "image/png": "[encoded data removed]",
      "text/plain": [
       "<Figure size 432x288 with 1 Axes>"
      ]
     },
     "metadata": {
      "needs_background": "light"
     },
     "output_type": "display_data"
    },
    {
     "data": {
      "image/png": "[encoded data removed]",
      "text/plain": [
       "<Figure size 432x288 with 1 Axes>"
      ]
     },
     "metadata": {
      "needs_background": "light"
     },
     "output_type": "display_data"
    },
    {
     "data": {
      "image/png": "[encoded data removed]",
      "text/plain": [
       "<Figure size 432x288 with 1 Axes>"
      ]
     },
     "metadata": {
      "needs_background": "light"
     },
     "output_type": "display_data"
    },
    {
     "data": {
      "image/png": "[encoded data removed]",
      "text/plain": [
       "<Figure size 432x288 with 1 Axes>"
      ]
     },
     "metadata": {
      "needs_background": "light"
     },
     "output_type": "display_data"
    },
    {
     "data": {
      "image/png": "[encoded data removed]",
      "text/plain": [
       "<Figure size 432x288 with 1 Axes>"
      ]
     },
     "metadata": {
      "needs_background": "light"
     },
     "output_type": "display_data"
    },
    {
     "data": {
      "image/png": "[encoded data removed]",
      "text/plain": [
       "<Figure size 432x288 with 1 Axes>"
      ]
     },
     "metadata": {
      "needs_background": "light"
     },
     "output_type": "display_data"
    }
   ],
   "source": [
    "# Extract MCMC samples into dictionary with parameter names\n",
    "samples_dict = model.get_samples()\n",
    "\n",
    "for i, k in enumerate(samples_dict.keys()):\n",
    "    param_shape = samples_dict[k].shape[1]\n",
    "    if param_shape >= 5:\n",
    "        ncol = 5\n",
    "        nrow = int(np.ceil(param_shape / ncol))\n",
    "    else:\n",
    "        ncol = param_shape\n",
    "        nrow = 1\n",
    "    plt.figure(i)\n",
    "    for j in range(param_shape):\n",
    "        plt.subplot(nrow, ncol, j + 1)\n",
    "        plt.hist(samples_dict[k][:, j])\n",
    "        plt.xlabel(k)\n",
    "    plt.show()"
   ]
  },
  {
   "cell_type": "markdown",
   "metadata": {},
   "source": [
    "The parameters `betaU` and `lamUz` correspond to the Gaussian process lengthscale and marginal variance,\n",
    "while `lamWs`, `lamWOs`, and `lamOs` are nugget and observation noise precisions.\n",
    "\n",
    "Most easy to interpret is `theta`, which is the posterior distribution over the $\\theta$ that could have generated $y_{obs}$.\n",
    "If we show the posterior distribution of `theta` on the original data plot as a rug plot, we see something interesting.\n",
    "Notice we use `theta_native` which is untransformed to the original space (`theta` is in [0, 1])."
   ]
  },
  {
   "cell_type": "code",
   "execution_count": 15,
   "metadata": {
    "collapsed": false,
    "jupyter": {
     "outputs_hidden": false
    },
    "pycharm": {
     "name": "#%%\n"
    }
   },
   "outputs": [
    {
     "data": {
      "image/png": "[encoded data removed]",
      "text/plain": [
       "<Figure size 432x288 with 1 Axes>"
      ]
     },
     "metadata": {
      "needs_background": "light"
     },
     "output_type": "display_data"
    }
   ],
   "source": [
    "plt.plot(data.sim_data.t, data.sim_data.y, 'k.')\n",
    "plt.axhline(data.obs_data.y, color='red')\n",
    "plt.axvline(t_obs, color='grey', linestyle='dashed')\n",
    "sns.rugplot(np.squeeze(samples_dict['theta_native']), height=0.1)\n",
    "plt.title('Synthetic data')\n",
    "plt.xlabel('t')\n",
    "plt.ylabel('y')\n",
    "plt.legend(['Sim', 'Obs'])\n",
    "plt.show()"
   ]
  },
  {
   "cell_type": "markdown",
   "metadata": {
    "pycharm": {
     "name": "#%% md\n"
    }
   },
   "source": [
    "The MCMC sampler has found a region of the input space that is consistent with the observed $y$,\n",
    "but it has not found the region that actually generated the data!\n",
    "\n",
    "If we run the sampler long enough, we would eventually expect to find a multimodal distribution for $\\theta$.\n",
    "As a shortcut, we will try changing the start value for `theta` to force the chain to explore other regions of input space."
   ]
  },
  {
   "cell_type": "code",
   "execution_count": 16,
   "metadata": {
    "collapsed": false,
    "jupyter": {
     "outputs_hidden": false
    },
    "pycharm": {
     "name": "#%%\n"
    }
   },
   "outputs": [
    {
     "name": "stderr",
     "output_type": "stream",
     "text": [
      "MCMC sampling: 100%|██████████| 1000/1000 [00:04<00:00, 227.95it/s]\n",
      "MCMC sampling: 100%|██████████| 1000/1000 [00:04<00:00, 237.10it/s]\n"
     ]
    }
   ],
   "source": [
    "# Explore lower end of [0, 1] region\n",
    "model.params.theta.set_val(0.1)\n",
    "model.do_mcmc(1000)\n",
    "# Explore upper end of [0, 1] region\n",
    "model.params.theta.set_val(0.9)\n",
    "model.do_mcmc(1000)"
   ]
  },
  {
   "cell_type": "markdown",
   "metadata": {
    "pycharm": {
     "name": "#%% md\n"
    }
   },
   "source": [
    "Let's see how the $\\theta$ samples look with the additional iterations."
   ]
  },
  {
   "cell_type": "code",
   "execution_count": 18,
   "metadata": {
    "collapsed": false,
    "jupyter": {
     "outputs_hidden": false
    },
    "pycharm": {
     "name": "#%%\n"
    }
   },
   "outputs": [
    {
     "data": {
      "image/png": "[encoded data removed]",
      "text/plain": [
       "<Figure size 432x288 with 1 Axes>"
      ]
     },
     "metadata": {
      "needs_background": "light"
     },
     "output_type": "display_data"
    },
    {
     "data": {
      "image/png": "[encoded data removed]",
      "text/plain": [
       "<Figure size 432x288 with 1 Axes>"
      ]
     },
     "metadata": {
      "needs_background": "light"
     },
     "output_type": "display_data"
    }
   ],
   "source": [
    "samples_dict = model.get_samples()\n",
    "\n",
    "plt.hist(samples_dict['theta_native'], bins=30, density=True)\n",
    "plt.xlabel('theta')\n",
    "plt.show()\n",
    "\n",
    "plt.plot(data.sim_data.t, data.sim_data.y, 'k.')\n",
    "plt.axhline(data.obs_data.y, color='red')\n",
    "plt.axvline(t_obs, color='grey', linestyle='dashed')\n",
    "sns.rugplot(np.squeeze(samples_dict['theta_native']), height=0.1)\n",
    "plt.title('Synthetic data')\n",
    "plt.xlabel('t')\n",
    "plt.ylabel('y')\n",
    "plt.legend(['Sim', 'Obs'])\n",
    "plt.show()"
   ]
  },
  {
   "cell_type": "markdown",
   "metadata": {
    "pycharm": {
     "name": "#%% md\n"
    }
   },
   "source": [
    "Now we see a trimodal distribution for `theta`, reflecting that three regions in the input space produce\n",
    "observations consistent with the observed data."
   ]
  },
  {
   "cell_type": "markdown",
   "metadata": {
    "pycharm": {
     "name": "#%% md\n"
    }
   },
   "source": [
    "### Model predictions\n",
    "Finally, we will use the MCMC samples to do some predictions.\n",
    "First, we get emulator predictions (which are predicting the $t$/$y$ relationship based on the simulation data).\n",
    "The inputs `x_pred` and `t_pred` refer to simulation inputs where we want to predict; for now, we make these equal\n",
    "to the `x` and `t` already in the model's simulation data object.\n",
    "We also need to provide MCMC samples, so that the Gaussian process (GP) emulator parameters are taken from these samples.\n",
    "The resulting `y` predictions are in the native space (standardization is un-done) though we can also predict in\n",
    "standardized space, if desired.\n",
    "We set `addResidVar = True` to get a sense of uncertainty in the GP.\n",
    "\n",
    "We plot the predictions in blue along with the original simulation data in black:"
   ]
  },
  {
   "cell_type": "code",
   "execution_count": 19,
   "metadata": {
    "collapsed": false,
    "jupyter": {
     "outputs_hidden": false
    },
    "pycharm": {
     "name": "#%%\n"
    }
   },
   "outputs": [
    {
     "data": {
      "image/png": "[encoded data removed]",
      "text/plain": [
       "<Figure size 432x288 with 1 Axes>"
      ]
     },
     "metadata": {
      "needs_background": "light"
     },
     "output_type": "display_data"
    }
   ],
   "source": [
    "sampleset = np.arange(0, 3000, 60)\n",
    "pred_samples = model.get_samples(sampleset=sampleset)\n",
    "pred = SepiaEmulatorPrediction(samples=pred_samples, model=model,\n",
    "                               t_pred=model.data.sim_data.t_trans, addResidVar=True)\n",
    "# Predictions are (size of sampleset, 100, 1)\n",
    "y_pred = pred.get_y_native()\n",
    "\n",
    "plt.plot(data.sim_data.t, y_pred.squeeze().T, 'b*')\n",
    "plt.plot(data.sim_data.t, data.sim_data.y, 'k.')\n",
    "plt.title('Synthetic data (black) with emulator predictions (blue)')\n",
    "plt.xlabel('t')\n",
    "plt.ylabel('y')\n",
    "plt.show()"
   ]
  },
  {
   "cell_type": "markdown",
   "metadata": {
    "pycharm": {
     "name": "#%% md\n"
    }
   },
   "source": [
    "Most of the predictions are close to the simulation data, but some are further away.\n",
    "These correspond to samples in `pred_samples` and reflect particular settings of the Gaussian process\n",
    "parameters for which the predictions are not very good (they appear to be oversmoothed).\n",
    "Instead of showing all the predictions, we can summarize using quantiles.\n",
    "We can see that a 95\\% posterior interval contains the simulation data with little uncertainty."
   ]
  },
  {
   "cell_type": "code",
   "execution_count": 20,
   "metadata": {
    "collapsed": false,
    "jupyter": {
     "outputs_hidden": false
    },
    "pycharm": {
     "name": "#%%\n"
    }
   },
   "outputs": [
    {
     "data": {
      "image/png": "[encoded data removed]",
      "text/plain": [
       "<Figure size 432x288 with 1 Axes>"
      ]
     },
     "metadata": {
      "needs_background": "light"
     },
     "output_type": "display_data"
    }
   ],
   "source": [
    "t_pred = pred.t_pred * 10\n",
    "y_pred_q025 = np.quantile(y_pred, 0.025, axis=0).squeeze()\n",
    "y_pred_mean = np.mean(y_pred, axis=0).squeeze()\n",
    "y_pred_q975 = np.quantile(y_pred, 0.975, axis=0).squeeze()\n",
    "\n",
    "plt.plot(t_pred, y_pred_mean, 'b.-')\n",
    "plt.plot(t_pred, y_pred_q025, 'b,-')\n",
    "plt.plot(t_pred, y_pred_q975, 'b,-')\n",
    "plt.plot(data.sim_data.t, data.sim_data.y, 'k,-')\n",
    "plt.show()"
   ]
  },
  {
   "cell_type": "markdown",
   "metadata": {
    "pycharm": {
     "name": "#%% md\n"
    }
   },
   "source": [
    "The emulator error is low because we are predicting at the same points where the data is observed,\n",
    "and the `t` are densely spaced. \n",
    "To get a better idea of uncertainty, we can leave out chunks of the `t` space from the model, then\n",
    "predict at the held out chunks.\n",
    "First, we create a list of index chunks to leave out, then call `SepiaXvalEmulatorPrediction`."
   ]
  },
  {
   "cell_type": "code",
   "execution_count": 21,
   "metadata": {
    "collapsed": false,
    "jupyter": {
     "outputs_hidden": false
    },
    "pycharm": {
     "name": "#%%\n"
    }
   },
   "outputs": [
    {
     "name": "stderr",
     "output_type": "stream",
     "text": [
      "Cross validation...: 100%|██████████| 5/5 [00:00<00:00, 12.00it/s]\n"
     ]
    }
   ],
   "source": [
    "leave_out_inds = np.array_split(np.arange(m), 5)\n",
    "#leave_out_inds = [np.arange(40, 60)]\n",
    "CVpred = SepiaXvalEmulatorPrediction(samples=pred_samples, model=model, addResidVar=True, leave_out_inds=leave_out_inds)\n",
    "# Predictions are (n_samp_pred, 100, 1)\n",
    "y_CVpred = CVpred.get_y_native()"
   ]
  },
  {
   "cell_type": "code",
   "execution_count": 22,
   "metadata": {
    "collapsed": false,
    "jupyter": {
     "outputs_hidden": false
    },
    "pycharm": {
     "name": "#%%\n"
    }
   },
   "outputs": [
    {
     "data": {
      "image/png": "[encoded data removed]",
      "text/plain": [
       "<Figure size 432x288 with 1 Axes>"
      ]
     },
     "metadata": {
      "needs_background": "light"
     },
     "output_type": "display_data"
    }
   ],
   "source": [
    "t_pred = CVpred.t_pred * 10\n",
    "y_CVpred_q025 = np.quantile(y_CVpred, 0.025, axis=0).squeeze()\n",
    "y_CVpred_mean = np.mean(y_CVpred, axis=0).squeeze()\n",
    "y_CVpred_q975 = np.quantile(y_CVpred, 0.975, axis=0).squeeze()\n",
    "\n",
    "plt.plot(t_pred, y_CVpred_mean, 'b.-')\n",
    "plt.plot(t_pred, y_CVpred_q025, 'b,-')\n",
    "plt.plot(t_pred, y_CVpred_q975, 'b,-')\n",
    "plt.plot(data.sim_data.t, data.sim_data.y, 'k,-')\n",
    "plt.show()\n"
   ]
  },
  {
   "cell_type": "code",
   "execution_count": null,
   "metadata": {},
   "outputs": [],
   "source": []
  }
 ],
 "metadata": {
  "kernelspec": {
   "display_name": "Python 3",
   "language": "python",
   "name": "python3"
  },
  "language_info": {
   "codemirror_mode": {
    "name": "ipython",
    "version": 3
   },
   "file_extension": ".py",
   "mimetype": "text/x-python",
   "name": "python",
   "nbconvert_exporter": "python",
   "pygments_lexer": "ipython3",
   "version": "3.9.6"
  },
  "widgets": {
   "application/vnd.jupyter.widget-state+json": {
    "state": {},
    "version_major": 2,
    "version_minor": 0
   }
  }
 },
 "nbformat": 4,
 "nbformat_minor": 4
}
